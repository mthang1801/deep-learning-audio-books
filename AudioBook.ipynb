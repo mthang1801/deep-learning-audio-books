{
 "cells": [
  {
   "cell_type": "markdown",
   "metadata": {},
   "source": [
    "## Practical example. Audiobooks"
   ]
  },
  {
   "cell_type": "markdown",
   "metadata": {},
   "source": [
    "### Problem\n",
    "We are given data from an Audiobook app. Logically, it relates only to the audio versions of books. Each customer in the database has made a purchase at least once, that's why he/she is in the database. We want to create a machine learning algorithm based on our available data that can predict if a customer will buy again from the Audiobook company.\n",
    "The main idea is that if a customer has a low probability of coming back, there is no reason to spend any money on advertizing to him/her. If we can focus our efforts ONLY on customers that are likely to convert again, we can make great savings. Moreover, this model can identify the most important metrics for a customer to come back again. Identifying new customers creates value and growth opportunities.\n",
    "We have a .csv summarizing the data. There are several variables: Customer ID, Book length in mins_avg (average of all purchases), Book length in minutes_sum (sum of all purchases), Price Paid_avg (average of all purchases), Price paid_sum (sum of all purchases), Review (a Boolean variable), Review (out of 10), Total minutes listened, Completion (from 0 to 1), Support requests (number), and Last visited minus purchase date (in days).\n",
    "So these are the inputs (excluding customer ID, as it is completely arbitrary. It's more like a name, than a number).\n",
    "The targets are a Boolean variable (so 0, or 1). We are taking a period of 2 years in our inputs, and the next 6 months as targets. So, in fact, we are predicting if: based on the last 2 years of activity and engagement, a customer will convert in the next 6 months. 6 months sounds like a reasonable time. If they don't convert after 6 months, chances are they've gone to a competitor or didn't like the Audiobook way of digesting information.\n",
    "The task is simple: create a machine learning algorithm, which is able to predict if a customer will buy again.\n",
    "This is a classification problem with two classes: won't buy and will buy, represented by 0s and 1s."
   ]
  },
  {
   "cell_type": "markdown",
   "metadata": {},
   "source": [
    "### Import libraries"
   ]
  },
  {
   "cell_type": "code",
   "execution_count": 1,
   "metadata": {},
   "outputs": [],
   "source": [
    "import numpy as np\n",
    "import tensorflow as tf \n",
    "import os "
   ]
  },
  {
   "cell_type": "code",
   "execution_count": 2,
   "metadata": {},
   "outputs": [],
   "source": [
    "def file_path(filename) : \n",
    "    return os.path.join(os.path.expanduser(\"~\"), \"Desktop\", filename)\n",
    "# Load train data\n",
    "npz = np.load(file_path(\"Audiobooks_data_train.npz\"))\n",
    "train_inputs = npz[\"inputs\"].astype(np.float)\n",
    "train_targets = npz[\"targets\"].astype(np.int)\n",
    "# Load validation data\n",
    "npz = np.load(file_path(\"Audiobooks_data_validation.npz\"))\n",
    "validation_inputs = npz[\"inputs\"].astype(np.float)\n",
    "validation_targets = npz[\"targets\"].astype(np.int)\n",
    "# Load test data\n",
    "npz = np.load(file_path(\"Audiobooks_data_test.npz\"))\n",
    "test_inputs = npz[\"inputs\"].astype(np.float)\n",
    "test_targets = npz[\"targets\"].astype(np.int)"
   ]
  },
  {
   "cell_type": "markdown",
   "metadata": {},
   "source": [
    "### Model"
   ]
  },
  {
   "cell_type": "code",
   "execution_count": 3,
   "metadata": {},
   "outputs": [
    {
     "name": "stdout",
     "output_type": "stream",
     "text": [
      "Epoch 1/100\n",
      "112/112 - 1s - loss: 0.4761 - accuracy: 0.7960 - val_loss: 0.3849 - val_accuracy: 0.8814\n",
      "Epoch 2/100\n",
      "112/112 - 0s - loss: 0.3157 - accuracy: 0.8854 - val_loss: 0.3390 - val_accuracy: 0.8792\n",
      "Epoch 3/100\n",
      "112/112 - 1s - loss: 0.2839 - accuracy: 0.8935 - val_loss: 0.3148 - val_accuracy: 0.8904\n",
      "Epoch 4/100\n",
      "112/112 - 0s - loss: 0.2657 - accuracy: 0.9016 - val_loss: 0.2966 - val_accuracy: 0.8881\n",
      "Epoch 5/100\n",
      "112/112 - 0s - loss: 0.2568 - accuracy: 0.9044 - val_loss: 0.2893 - val_accuracy: 0.8881\n",
      "Epoch 6/100\n",
      "112/112 - 0s - loss: 0.2496 - accuracy: 0.9061 - val_loss: 0.2799 - val_accuracy: 0.8904\n",
      "Epoch 7/100\n",
      "112/112 - 0s - loss: 0.2493 - accuracy: 0.9058 - val_loss: 0.2853 - val_accuracy: 0.8926\n",
      "Epoch 8/100\n",
      "112/112 - 0s - loss: 0.2415 - accuracy: 0.9106 - val_loss: 0.2904 - val_accuracy: 0.8770\n",
      "Epoch 9/100\n",
      "112/112 - 0s - loss: 0.2389 - accuracy: 0.9111 - val_loss: 0.2834 - val_accuracy: 0.8904\n"
     ]
    },
    {
     "data": {
      "text/plain": [
       "<tensorflow.python.keras.callbacks.History at 0x7faf8163edd8>"
      ]
     },
     "execution_count": 3,
     "metadata": {},
     "output_type": "execute_result"
    }
   ],
   "source": [
    "output_size = 2 # enum[0,1]\n",
    "input_size = 10 # number of columns of train data\n",
    "hidden_layer_size = 50 # optional\n",
    "# define how the model will look like\n",
    "model = tf.keras.Sequential([\n",
    "    # tf.keras.layers.Dense() is basically implementing : output = activation(dot(input,weight) + bias)    \n",
    "     # it takes several arguments, but the most important ones for us are the hidden_layer_size and the activation function\n",
    "    tf.keras.layers.Dense(hidden_layer_size, activation=\"relu\"), #1st hidden layer\n",
    "    tf.keras.layers.Dense(hidden_layer_size, activation=\"relu\"), #2nd hidden layer\n",
    "    # the final layer is no different, we just make sure to activate it with softmax\n",
    "    tf.keras.layers.Dense(output_size, activation=\"softmax\")\n",
    "])\n",
    "\n",
    "### Choose the optimizer and the loss function\n",
    "\n",
    "# we define the optimizer we'd like to use, \n",
    "# the loss function, \n",
    "# and the metrics we are interested in obtaining at each iteration\n",
    "model.compile(optimizer=\"adam\", loss=\"sparse_categorical_crossentropy\", metrics=[\"accuracy\"])\n",
    "\n",
    "### Training\n",
    "# That's where we train the model we have built.\n",
    "batch_size = 100 \n",
    "max_epochs = 100 \n",
    "# Set stop early to prevent overfit\n",
    "# let's set patience=2, to be a bit tolerant against random validation loss increases\n",
    "early_stopping = tf.keras.callbacks.EarlyStopping(patience=2)\n",
    "# fit the model\n",
    "# note that this time the train, validation and test data are not iterable\n",
    "model.fit(\n",
    "    train_inputs,\n",
    "    train_targets,\n",
    "    epochs = max_epochs,\n",
    "    callbacks=early_stopping,\n",
    "    validation_data=(validation_inputs, validation_targets),\n",
    "    verbose = 2 \n",
    ")"
   ]
  },
  {
   "cell_type": "markdown",
   "metadata": {},
   "source": [
    "### Test the model"
   ]
  },
  {
   "cell_type": "markdown",
   "metadata": {},
   "source": [
    "After training and validation data, we test the final predict of power of out model by running on the test dataset that algorithm has NEVER seen before\n",
    "\n",
    "It  is very important to realize that fiddling with the hyperparameters overfits the validation dataset.\n",
    "\n",
    "The test is absolutely final instance. We should not test before we are completely done with adjusting out model.\n",
    "\n",
    "If we adjusting, we will start overfitting the test dataset, which will defeat this purpose"
   ]
  },
  {
   "cell_type": "code",
   "execution_count": 5,
   "metadata": {},
   "outputs": [
    {
     "name": "stdout",
     "output_type": "stream",
     "text": [
      "14/14 [==============================] - 0s 2ms/step - loss: 0.2421 - accuracy: 0.9129\n"
     ]
    }
   ],
   "source": [
    "test_loss, test_accuracy = model.evaluate(test_inputs, test_targets)\n"
   ]
  },
  {
   "cell_type": "code",
   "execution_count": null,
   "metadata": {},
   "outputs": [],
   "source": [
    "print(f\"Test loss: {test_loss*100:.2f}%, Test accuracy: {test_accuracy*100:.2f}\")"
   ]
  }
 ],
 "metadata": {
  "kernelspec": {
   "display_name": "Python 3",
   "language": "python",
   "name": "python3"
  },
  "language_info": {
   "codemirror_mode": {
    "name": "ipython",
    "version": 3
   },
   "file_extension": ".py",
   "mimetype": "text/x-python",
   "name": "python",
   "nbconvert_exporter": "python",
   "pygments_lexer": "ipython3",
   "version": "3.6.9"
  }
 },
 "nbformat": 4,
 "nbformat_minor": 4
}
